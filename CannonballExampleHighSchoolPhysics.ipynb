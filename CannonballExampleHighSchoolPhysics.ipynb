{
 "metadata": {
  "name": "",
  "signature": "sha256:89acebc61190b3bbb4329525ef00d8f8208739bf9b486e032828a3ed0780c016"
 },
 "nbformat": 3,
 "nbformat_minor": 0,
 "worksheets": [
  {
   "cells": [
    {
     "cell_type": "markdown",
     "metadata": {},
     "source": [
      "## Cannonball Problem.\n",
      "\n",
      "You shoot a cannon ball with velocity $v$ at some angle $\\theta$.  Your goal is to hit a target above you at a height $h$ and a horizontal distance $d_x$ away from you.  At what angle should you aim the cannon?\n",
      "\n",
      "The initial velocity of the cannonball can be broken down into its x and y components:\n",
      "\n",
      "\\begin{eqnarray}\n",
      "v_{x,i} & = & v \\cos \\theta \\\\\n",
      "v_{y,i} & = & v \\sin \\theta\n",
      "\\end{eqnarray}\n",
      "\n",
      "We want to use the kinematic equations to solve for $\\theta$.  Another unknown variable is t, the time at which the cannonball hits the target.\n",
      "\n",
      "\\begin{eqnarray}\n",
      "d_x & = & v_{x,i} t = vt \\cos \\theta \\\\\n",
      "h & = & v_{y,i} t - 4.9t^2 = vt \\sin \\theta - 4.9 t^2\n",
      "\\end{eqnarray}\n",
      "\n",
      "We can express t in terms of knowns $d_x$ and $v$:\n",
      "\\begin{eqnarray}\n",
      "t = \\frac{d_x}{v \\cos \\theta}\n",
      "\\end{eqnarray}\n",
      "\n",
      "So now we have one more equation and one unknown, $\\theta$.\n",
      "\n",
      "\\begin{eqnarray}\n",
      "h = d_x \\frac{\\sin \\theta}{\\cos \\theta} - 4.9 \\frac{d_x^2}{v^2 \\cos^2 \\theta}\n",
      "\\end{eqnarray}\n",
      "\n",
      "Let's multiply through by $\\cos^2 \\theta$ and rearrange:\n",
      "\n",
      "\\begin{eqnarray}\n",
      "0 = d_x \\sin \\theta \\cos \\theta - 4.9 \\frac{d_x^2}{v^2} - h\\cos^2 \\theta\n",
      "\\end{eqnarray}\n",
      "\n",
      "We don't know how to solve this equation, so we'll just plot the right hand side as a function of $\\theta$ and see when the function it crosses 0.  That will be a solution of our equation.\n",
      "\n",
      "To solve it, we need to plug in numbers for $v$, $h$ and $d_x$.\n",
      "\n",
      "Let's think about hte possible solutions though:\n",
      "  * If v is too small, there will be no possible angle that will allow you to reach the target.\n",
      "  * If v is large enough, there will be two solutions.  In the first case, it will hit the target as it's still on its way up ($v_y > 0$), and in the second solution, it will reach its maximum and fall down to hit the target.  Trick question -- which one will take longer?"
     ]
    },
    {
     "cell_type": "code",
     "collapsed": false,
     "input": [
      "d_x = 5\n",
      "h = 0.5\n",
      "v = 4.\n",
      "\n",
      "theta = np.arange(0,90,0.001)\n",
      "myzero = np.zeros(len(theta))\n",
      "# convert theta to radians from degrees.\n",
      "thetarad = theta*np.pi/180.\n",
      "y = d_x*np.sin(thetarad)*np.cos(thetarad)-4.9*d_x**2/v**2-h*(np.cos(thetarad))**2\n",
      "plt.plot(theta,y)\n",
      "plt.plot(theta,myzero,'k--')\n",
      "plt.axis([0,90,-10,1])"
     ],
     "language": "python",
     "metadata": {},
     "outputs": [
      {
       "metadata": {},
       "output_type": "pyout",
       "prompt_number": 28,
       "text": [
        "[0, 90, -10, 1]"
       ]
      },
      {
       "metadata": {},
       "output_type": "display_data",
       "png": "[encoded data removed]",
       "text": [
        "<matplotlib.figure.Figure at 0x106f10b50>"
       ]
      }
     ],
     "prompt_number": 28
    },
    {
     "cell_type": "markdown",
     "metadata": {},
     "source": [
      "## This is an example where there is no solution.  The initial velocity is too small to reach the target, so there is no value of theta that solves the equation (i.e., crosses the dashed line)."
     ]
    },
    {
     "cell_type": "code",
     "collapsed": false,
     "input": [
      "v = 200.\n",
      "y = d_x*np.sin(thetarad)*np.cos(thetarad)-4.9*d_x**2/v**2-h*(np.cos(thetarad))**2\n",
      "plt.plot(theta,y)\n",
      "plt.plot(theta,myzero,'k--')"
     ],
     "language": "python",
     "metadata": {},
     "outputs": [
      {
       "metadata": {},
       "output_type": "pyout",
       "prompt_number": 29,
       "text": [
        "[<matplotlib.lines.Line2D at 0x107391f10>]"
       ]
      },
      {
       "metadata": {},
       "output_type": "display_data",
       "png": "[encoded data removed]",
       "text": [
        "<matplotlib.figure.Figure at 0x107391f50>"
       ]
      }
     ],
     "prompt_number": 29
    },
    {
     "cell_type": "markdown",
     "metadata": {},
     "source": [
      "## this is a way to compute the minimum value of theta that has a positive value of y; that's the first place the blue curve crosses 0."
     ]
    },
    {
     "cell_type": "code",
     "collapsed": false,
     "input": [
      "xx = np.where(y > 0)[0].min()\n",
      "print 'First solution:',theta[xx],'degrees'"
     ],
     "language": "python",
     "metadata": {},
     "outputs": [
      {
       "output_type": "stream",
       "stream": "stdout",
       "text": [
        "First solution: 5.746 degrees\n"
       ]
      }
     ],
     "prompt_number": 30
    },
    {
     "cell_type": "markdown",
     "metadata": {},
     "source": [
      "## Is there a second solution?  Let's zoom in on the plot near $\\theta = 90$ since it's hard to tell on the graph above.\n"
     ]
    },
    {
     "cell_type": "code",
     "collapsed": false,
     "input": [
      "plt.plot(theta,y)\n",
      "plt.plot(theta,myzero,'k--')\n",
      "plt.axis([89.5,90,-0.02,0.02])"
     ],
     "language": "python",
     "metadata": {},
     "outputs": [
      {
       "metadata": {},
       "output_type": "pyout",
       "prompt_number": 31,
       "text": [
        "[89.5, 90, -0.02, 0.02]"
       ]
      },
      {
       "metadata": {},
       "output_type": "display_data",
       "png": "[encoded data removed]",
       "text": [
        "<matplotlib.figure.Figure at 0x107170290>"
       ]
      }
     ],
     "prompt_number": 31
    },
    {
     "cell_type": "markdown",
     "metadata": {},
     "source": [
      "## Yes, there's a solution, but it's almost straight up."
     ]
    },
    {
     "cell_type": "code",
     "collapsed": false,
     "input": [
      "v = 10.\n",
      "plt.plot(theta,d_x*np.sin(thetarad)*np.cos(thetarad)-4.9*d_x**2/v**2-h*(np.cos(thetarad))**2)\n",
      "plt.plot(theta,myzero,'k--')"
     ],
     "language": "python",
     "metadata": {},
     "outputs": [
      {
       "metadata": {},
       "output_type": "pyout",
       "prompt_number": 15,
       "text": [
        "[<matplotlib.lines.Line2D at 0x106c65f10>]"
       ]
      },
      {
       "metadata": {},
       "output_type": "display_data",
       "png": "[encoded data removed]",
       "text": [
        "<matplotlib.figure.Figure at 0x106be84d0>"
       ]
      }
     ],
     "prompt_number": 15
    },
    {
     "cell_type": "markdown",
     "metadata": {},
     "source": [
      "## Finally, here's a lower velocity that shows two solutions more clearly.  Bonus question -- is there always 0 or 2 solutions?  Can you find a set of parameters for the problem that makes only one solution?"
     ]
    },
    {
     "cell_type": "code",
     "collapsed": false,
     "input": [],
     "language": "python",
     "metadata": {},
     "outputs": []
    }
   ],
   "metadata": {}
  }
 ]
}